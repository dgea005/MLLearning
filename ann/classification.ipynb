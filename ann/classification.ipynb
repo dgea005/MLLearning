{
 "cells": [
  {
   "cell_type": "code",
   "execution_count": 9,
   "metadata": {
    "collapsed": true
   },
   "outputs": [],
   "source": [
    "%matplotlib inline\n",
    "import numpy as np\n",
    "import neuralnet as nn\n",
    "import pylab as p\n",
    "from sklearn.cross_validation import train_test_split"
   ]
  },
  {
   "cell_type": "code",
   "execution_count": 5,
   "metadata": {
    "collapsed": false
   },
   "outputs": [],
   "source": [
    "# load data and split into train, val (test is submitting)\n",
    "data = np.load(\"C:\\\\DataSets\\\\otto\\dumps\\\\train_data\")\n",
    "labels = np.load(\"C:\\\\DataSets\\\\otto\\\\dumps\\\\train_labels\")\n",
    "\n",
    "tr_x, val_x, tr_y, val_y = train_test_split(data, labels, test_size=0.15, random_state=21)"
   ]
  },
  {
   "cell_type": "code",
   "execution_count": 6,
   "metadata": {
    "collapsed": true
   },
   "outputs": [],
   "source": [
    "# data transformation\n",
    "\n",
    "# log transformation\n",
    "tr_x = np.log10(tr_x + 1)\n",
    "val_x = np.log10(val_x + 1)\n",
    "\n",
    "# normalisation  (xi - mu) / sigma over all values\n",
    "# get averages\n",
    "avg = np.mean(tr_x)\n",
    "sds = np.std(tr_x)\n",
    "\n",
    "tr_x -= avg\n",
    "tr_x /= sds\n",
    "\n",
    "val_x -= avg\n",
    "val_x /= avg"
   ]
  },
  {
   "cell_type": "code",
   "execution_count": 7,
   "metadata": {
    "collapsed": true
   },
   "outputs": [],
   "source": [
    "network = nn.ann_2(features=93, hl1_size=100, hl2_size=100, classes=9)\n",
    "network.set_hyperparams(epochs=100, batch_size=100)\n",
    "tr = network.train(tr_x, tr_y)\n",
    "# should add some message to indicate training has completed"
   ]
  },
  {
   "cell_type": "code",
   "execution_count": 10,
   "metadata": {
    "collapsed": false
   },
   "outputs": [
    {
     "data": {
      "text/plain": [
       "[<matplotlib.lines.Line2D at 0x7f36cf8>]"
      ]
     },
     "execution_count": 10,
     "metadata": {},
     "output_type": "execute_result"
    },
    {
     "data": {
      "image/png": "[encoded data removed]",
      "text/plain": [
       "<matplotlib.figure.Figure at 0x79895f8>"
      ]
     },
     "metadata": {},
     "output_type": "display_data"
    }
   ],
   "source": [
    "p.plot(tr[\"epoch\"], tr[\"cost\"])"
   ]
  },
  {
   "cell_type": "code",
   "execution_count": 13,
   "metadata": {
    "collapsed": false
   },
   "outputs": [
    {
     "name": "stdout",
     "output_type": "stream",
     "text": [
      "0.700280112045\n",
      "1.24625737736\n"
     ]
    }
   ],
   "source": [
    "print(network.accuracy(val_x, val_y))\n",
    "print(network.cross_entropy(val_x, val_y))"
   ]
  },
  {
   "cell_type": "code",
   "execution_count": null,
   "metadata": {
    "collapsed": true
   },
   "outputs": [],
   "source": []
  }
 ],
 "metadata": {
  "kernelspec": {
   "display_name": "Python 3",
   "language": "python",
   "name": "python3"
  },
  "language_info": {
   "codemirror_mode": {
    "name": "ipython",
    "version": 3
   },
   "file_extension": ".py",
   "mimetype": "text/x-python",
   "name": "python",
   "nbconvert_exporter": "python",
   "pygments_lexer": "ipython3",
   "version": "3.4.3"
  }
 },
 "nbformat": 4,
 "nbformat_minor": 0
}
