{
 "metadata": {
  "name": ""
 },
 "nbformat": 3,
 "nbformat_minor": 0,
 "worksheets": [
  {
   "cells": [
    {
     "cell_type": "code",
     "collapsed": false,
     "input": [
      "%matplotlib inline\n",
      "from pylab import rcParams\n",
      "rcParams['figure.figsize'] = 8, 4"
     ],
     "language": "python",
     "metadata": {},
     "outputs": [],
     "prompt_number": 1
    },
    {
     "cell_type": "code",
     "collapsed": false,
     "input": [
      "import numpy as np\n",
      "import matplotlib.pyplot as plt\n",
      "ex2d1 = np.loadtxt(\"ex2data1.txt\", delimiter=\",\")\n",
      "plt.scatter(ex2d1[ex2d1[:,2]==1][:,0], ex2d1[ex2d1[:,2]==1][:,1], marker = \"^\")\n",
      "plt.scatter(ex2d1[ex2d1[:,2]==0][:,0], ex2d1[ex2d1[:,2]==0][:,1], marker = \"x\", c = \"r\")"
     ],
     "language": "python",
     "metadata": {},
     "outputs": [
      {
       "metadata": {},
       "output_type": "pyout",
       "prompt_number": 2,
       "text": [
        "<matplotlib.collections.PathCollection at 0x6848e30>"
       ]
      },
      {
       "metadata": {},
       "output_type": "display_data",
       "png": "[encoded data removed]",
       "text": [
        "<matplotlib.figure.Figure at 0x68150f0>"
       ]
      }
     ],
     "prompt_number": 2
    },
    {
     "cell_type": "code",
     "collapsed": false,
     "input": [
      "def sigmoid(z):\n",
      "    return (1 / (1 + np.exp(-z)))\n",
      "\n",
      "def J(thetas, data, y):\n",
      "    return (-1./len(data[:,0])) * (np.dot((np.log(sigmoid(np.dot(xs,thetas))).T),y) + np.dot((np.log(1 - sigmoid(np.dot(xs,thetas))).T),(1-y)))\n",
      "\n",
      "#prepare the data\n",
      "x0 = np.ones(len(ex2d1[:,0]))\n",
      "xs = ex2d1[:,0:2]\n",
      "intercept = np.ones(xs.shape[0]).reshape(xs.shape[0], 1)\n",
      "xs = np.concatenate((intercept, xs), axis = 1)\n",
      "thetas = np.array([0, 0, 0])\n",
      "y = ex2d1[:,2]\n",
      "\n",
      "\n",
      "J(thetas, xs, y)"
     ],
     "language": "python",
     "metadata": {},
     "outputs": [
      {
       "metadata": {},
       "output_type": "pyout",
       "prompt_number": 3,
       "text": [
        "0.69314718055994529"
       ]
      }
     ],
     "prompt_number": 3
    },
    {
     "cell_type": "code",
     "collapsed": false,
     "input": [
      "# looking at data form\n",
      "# y is just an m length array\n",
      "# xs\n",
      "# format of data is\n",
      "#  intercept     x1          x2\n",
      "#    1          34.623...  78.024... \n",
      "#    1          30.286...  43.894...\n",
      "#    1          35.847...  72.902...\n",
      "#    ...        ...         ...\n",
      "# i.e., 100 rows and 3 columns or np.shape = (100, 3)\n",
      "# thetas \n",
      "# an array 3 long\n",
      "print(np.shape(xs))\n",
      "print(np.shape(thetas))\n",
      "print(np.shape(y))\n",
      "print(y)\n",
      "print(thetas)\n",
      "print(xs)"
     ],
     "language": "python",
     "metadata": {},
     "outputs": [
      {
       "output_type": "stream",
       "stream": "stdout",
       "text": [
        "(100, 3)\n",
        "(3,)\n",
        "(100,)\n",
        "[ 0.  0.  0.  1.  1.  0.  1.  1.  1.  1.  0.  0.  1.  1.  0.  1.  1.  0.\n",
        "  1.  1.  0.  1.  0.  0.  1.  1.  1.  0.  0.  0.  1.  1.  0.  1.  0.  0.\n",
        "  0.  1.  0.  0.  1.  0.  1.  0.  0.  0.  1.  1.  1.  1.  1.  1.  1.  0.\n",
        "  0.  0.  1.  0.  1.  1.  1.  0.  0.  0.  0.  0.  1.  0.  1.  1.  0.  1.\n",
        "  1.  1.  1.  1.  1.  1.  0.  0.  1.  1.  1.  1.  1.  1.  0.  1.  1.  0.\n",
        "  1.  1.  0.  1.  1.  1.  1.  1.  1.  1.]\n",
        "[0 0 0]\n",
        "[[  1.          34.62365962  78.02469282]\n",
        " [  1.          30.28671077  43.89499752]\n",
        " [  1.          35.84740877  72.90219803]\n",
        " [  1.          60.18259939  86.3085521 ]\n",
        " [  1.          79.03273605  75.34437644]\n",
        " [  1.          45.08327748  56.31637178]\n",
        " [  1.          61.10666454  96.51142588]\n",
        " [  1.          75.02474557  46.55401354]\n",
        " [  1.          76.0987867   87.42056972]\n",
        " [  1.          84.43281996  43.53339331]\n",
        " [  1.          95.86155507  38.22527806]\n",
        " [  1.          75.01365839  30.60326323]\n",
        " [  1.          82.30705337  76.4819633 ]\n",
        " [  1.          69.36458876  97.71869196]\n",
        " [  1.          39.53833914  76.03681085]\n",
        " [  1.          53.97105215  89.20735014]\n",
        " [  1.          69.07014406  52.74046973]\n",
        " [  1.          67.94685548  46.67857411]\n",
        " [  1.          70.66150955  92.92713789]\n",
        " [  1.          76.97878373  47.57596365]\n",
        " [  1.          67.37202755  42.83843832]\n",
        " [  1.          89.67677575  65.79936593]\n",
        " [  1.          50.53478829  48.85581153]\n",
        " [  1.          34.21206098  44.2095286 ]\n",
        " [  1.          77.92409145  68.97235999]\n",
        " [  1.          62.27101367  69.95445795]\n",
        " [  1.          80.19018075  44.82162893]\n",
        " [  1.          93.1143888   38.80067034]\n",
        " [  1.          61.83020602  50.25610789]\n",
        " [  1.          38.7858038   64.99568096]\n",
        " [  1.          61.37928945  72.80788731]\n",
        " [  1.          85.40451939  57.05198398]\n",
        " [  1.          52.10797973  63.12762377]\n",
        " [  1.          52.04540477  69.43286012]\n",
        " [  1.          40.23689374  71.16774802]\n",
        " [  1.          54.63510555  52.21388588]\n",
        " [  1.          33.91550011  98.86943574]\n",
        " [  1.          64.17698887  80.90806059]\n",
        " [  1.          74.78925296  41.57341523]\n",
        " [  1.          34.18364003  75.23772034]\n",
        " [  1.          83.90239366  56.30804622]\n",
        " [  1.          51.54772027  46.85629026]\n",
        " [  1.          94.44336777  65.56892161]\n",
        " [  1.          82.36875376  40.61825516]\n",
        " [  1.          51.04775177  45.82270146]\n",
        " [  1.          62.22267576  52.06099195]\n",
        " [  1.          77.19303493  70.4582    ]\n",
        " [  1.          97.77159928  86.72782233]\n",
        " [  1.          62.0730638   96.76882412]\n",
        " [  1.          91.5649745   88.69629255]\n",
        " [  1.          79.94481794  74.16311935]\n",
        " [  1.          99.27252693  60.999031  ]\n",
        " [  1.          90.54671411  43.39060181]\n",
        " [  1.          34.52451385  60.39634246]\n",
        " [  1.          50.28649612  49.80453881]\n",
        " [  1.          49.58667722  59.80895099]\n",
        " [  1.          97.64563396  68.86157272]\n",
        " [  1.          32.57720017  95.59854761]\n",
        " [  1.          74.24869137  69.82457123]\n",
        " [  1.          71.79646206  78.45356225]\n",
        " [  1.          75.39561147  85.75993667]\n",
        " [  1.          35.28611282  47.02051395]\n",
        " [  1.          56.2538175   39.26147251]\n",
        " [  1.          30.05882245  49.59297387]\n",
        " [  1.          44.66826172  66.45008615]\n",
        " [  1.          66.56089447  41.09209808]\n",
        " [  1.          40.45755098  97.53518549]\n",
        " [  1.          49.07256322  51.88321182]\n",
        " [  1.          80.27957401  92.11606081]\n",
        " [  1.          66.74671857  60.99139403]\n",
        " [  1.          32.72283304  43.30717306]\n",
        " [  1.          64.03932042  78.03168802]\n",
        " [  1.          72.34649423  96.22759297]\n",
        " [  1.          60.45788574  73.0949981 ]\n",
        " [  1.          58.84095622  75.85844831]\n",
        " [  1.          99.8278578   72.36925193]\n",
        " [  1.          47.26426911  88.475865  ]\n",
        " [  1.          50.4581598   75.80985953]\n",
        " [  1.          60.45555629  42.50840944]\n",
        " [  1.          82.22666158  42.71987854]\n",
        " [  1.          88.91389642  69.8037889 ]\n",
        " [  1.          94.83450672  45.6943068 ]\n",
        " [  1.          67.31925747  66.58935318]\n",
        " [  1.          57.23870632  59.51428198]\n",
        " [  1.          80.366756    90.9601479 ]\n",
        " [  1.          68.46852179  85.5943071 ]\n",
        " [  1.          42.07545454  78.844786  ]\n",
        " [  1.          75.47770201  90.424539  ]\n",
        " [  1.          78.63542435  96.64742717]\n",
        " [  1.          52.34800399  60.76950526]\n",
        " [  1.          94.09433113  77.15910509]\n",
        " [  1.          90.44855097  87.50879176]\n",
        " [  1.          55.48216114  35.57070347]\n",
        " [  1.          74.49269242  84.84513685]\n",
        " [  1.          89.84580671  45.35828361]\n",
        " [  1.          83.48916274  48.3802858 ]\n",
        " [  1.          42.26170081  87.10385094]\n",
        " [  1.          99.31500881  68.77540947]\n",
        " [  1.          55.34001756  64.93193801]\n",
        " [  1.          74.775893    89.5298129 ]]\n"
       ]
      }
     ],
     "prompt_number": 4
    },
    {
     "cell_type": "code",
     "collapsed": false,
     "input": [
      "import scipy.optimize\n",
      "import scipy as sp\n",
      "\n",
      "optimise = scipy.optimize.fmin_bfgs(J, \n",
      "                                  x0 = np.array([0.01, 0.001, 0.01]), \n",
      "                                  args = (xs, y),\n",
      "                                  maxiter = 1000)\n",
      "optimise"
     ],
     "language": "python",
     "metadata": {},
     "outputs": [
      {
       "output_type": "stream",
       "stream": "stdout",
       "text": [
        "Optimization terminated successfully.\n",
        "         Current function value: 0.203498\n",
        "         Iterations: 24\n",
        "         Function evaluations: 135\n",
        "         Gradient evaluations: 27\n"
       ]
      },
      {
       "metadata": {},
       "output_type": "pyout",
       "prompt_number": 5,
       "text": [
        "array([-25.16121157,   0.20623072,   0.20147065])"
       ]
      }
     ],
     "prompt_number": 5
    },
    {
     "cell_type": "code",
     "collapsed": false,
     "input": [
      "# want to get all combinations that result in 0.5\n",
      "# ie., sigmoid(th0 + th1 * x1 + th2 * x2) = 0.5\n",
      "def probs(x, t):\n",
      "    return sigmoid(t[0] + t[1]*x[0] + t[2]*x[1])\n",
      "\n",
      "prob = np.zeros(shape = (101,101))\n",
      "for i in np.arange(0, 101, 1):\n",
      "    for j in np.arange(0, 101, 1):\n",
      "        prob[i, j] = probs(x = (i, j), t = optimise)\n",
      "\n",
      "cmap = plt.cm.RdBu\n",
      "plt.contourf(prob, alpha=0.5, levels = [0,0.25, 0.45, 0.5, 0.55, 0.75, 1], cmap = cmap)\n",
      "plt.scatter(ex2d1[ex2d1[:,2]==1][:,0], ex2d1[ex2d1[:,2]==1][:,1], marker = \"^\")\n",
      "plt.scatter(ex2d1[ex2d1[:,2]==0][:,0], ex2d1[ex2d1[:,2]==0][:,1], marker = \"x\", c = \"r\")\n",
      "plt.title(\"Admission by exam marks\")\n",
      "plt.ylabel(\"exam mark 2\")\n",
      "plt.xlabel(\"exam mark 1\")"
     ],
     "language": "python",
     "metadata": {},
     "outputs": [
      {
       "metadata": {},
       "output_type": "pyout",
       "prompt_number": 6,
       "text": [
        "<matplotlib.text.Text at 0x6c90bd0>"
       ]
      },
      {
       "metadata": {},
       "output_type": "display_data",
       "png": "[encoded data removed]",
       "text": [
        "<matplotlib.figure.Figure at 0x6c90330>"
       ]
      }
     ],
     "prompt_number": 6
    },
    {
     "cell_type": "code",
     "collapsed": false,
     "input": [
      "def gradient(thetas, data, y):\n",
      "    hypo = sigmoid(np.dot(thetas, data.T))\n",
      "    return (1./len(data[:,0]))*np.dot((hypo-y), data)\n",
      "\n",
      "#test\n",
      "gradient(thetas, xs, y)"
     ],
     "language": "python",
     "metadata": {},
     "outputs": [
      {
       "metadata": {},
       "output_type": "pyout",
       "prompt_number": 7,
       "text": [
        "array([ -0.1       , -12.00921659, -11.26284221])"
       ]
      }
     ],
     "prompt_number": 7
    },
    {
     "cell_type": "code",
     "collapsed": false,
     "input": [
      "optGr = scipy.optimize.fmin_bfgs(J, fprime=gradient,  \n",
      "                                  x0 = np.array([0.01, 0.001, 0.01]), \n",
      "                                  args = (xs, y),\n",
      "                                  maxiter = 1000)\n",
      "optGr"
     ],
     "language": "python",
     "metadata": {},
     "outputs": [
      {
       "output_type": "stream",
       "stream": "stdout",
       "text": [
        "Optimization terminated successfully.\n",
        "         Current function value: 0.203498\n",
        "         Iterations: 24\n",
        "         Function evaluations: 27\n",
        "         Gradient evaluations: 27\n"
       ]
      },
      {
       "metadata": {},
       "output_type": "pyout",
       "prompt_number": 8,
       "text": [
        "array([-25.16131518,   0.20623155,   0.20147149])"
       ]
      }
     ],
     "prompt_number": 8
    },
    {
     "cell_type": "code",
     "collapsed": false,
     "input": [
      "optCng = scipy.optimize.fmin_ncg(J, maxiter = 1000, fprime = gradient, \n",
      "                                 x0 = np.array([0.01, 0.001, 0.01]),\n",
      "                                 args = (xs, y))\n",
      "\n",
      "optCng"
     ],
     "language": "python",
     "metadata": {},
     "outputs": [
      {
       "output_type": "stream",
       "stream": "stdout",
       "text": [
        "Optimization terminated successfully.\n",
        "         Current function value: 0.203548\n",
        "         Iterations: 23\n",
        "         Function evaluations: 58\n",
        "         Gradient evaluations: 194\n",
        "         Hessian evaluations: 0\n"
       ]
      },
      {
       "metadata": {},
       "output_type": "pyout",
       "prompt_number": 9,
       "text": [
        "array([-24.58742643,   0.20164334,   0.19682565])"
       ]
      }
     ],
     "prompt_number": 9
    },
    {
     "cell_type": "code",
     "collapsed": false,
     "input": [
      "#check the gradient\n",
      "scipy.optimize.check_grad(J, gradient, thetas, xs, y)"
     ],
     "language": "python",
     "metadata": {},
     "outputs": [
      {
       "metadata": {},
       "output_type": "pyout",
       "prompt_number": 10,
       "text": [
        "1.2403493395440989e-05"
       ]
      }
     ],
     "prompt_number": 10
    },
    {
     "cell_type": "code",
     "collapsed": false,
     "input": [
      "# prediction for exam 1 = 45, exam 2 = 85\n",
      "sigmoid(optimise[0] + optimise[1] * 45 + optimise[2]*85)"
     ],
     "language": "python",
     "metadata": {},
     "outputs": [
      {
       "metadata": {},
       "output_type": "pyout",
       "prompt_number": 11,
       "text": [
        "0.77629008166887492"
       ]
      }
     ],
     "prompt_number": 11
    },
    {
     "cell_type": "code",
     "collapsed": false,
     "input": [
      "# check how will the predictors have worked\n",
      "# will essentially want the training sample values\n",
      "\n",
      "#need a function to calculate all of the values\n",
      "#xs[:,1]\n",
      "def t_error(x, t):\n",
      "    #first need the probability of admission\n",
      "    prob = sigmoid(t[0] +  x[:,1] * t[1] + x[:,2] * t[2])\n",
      "    preds = np.zeros(np.shape(prob)[0])\n",
      "    for i in np.arange(0, np.shape(prob)[0]):\n",
      "        if prob[i] >= 0.5:\n",
      "            preds[i] = 1\n",
      "    return preds\n",
      "    \n",
      "#t_error(xs, optimise)\n",
      "#t_error(xs, optimise)\n",
      "\n",
      "#bfgs\n",
      "preds = t_error(xs, optimise)\n",
      "print(np.sum(y == preds))\n",
      "\n",
      "#bfgs w/ gr\n",
      "pred2 = t_error(xs, optGr)\n",
      "print(np.sum(y == pred2))\n",
      "\n",
      "#cng\n",
      "pred3 = t_error(xs, optCng)\n",
      "print(np.sum(y == pred3))"
     ],
     "language": "python",
     "metadata": {},
     "outputs": [
      {
       "output_type": "stream",
       "stream": "stdout",
       "text": [
        "89\n",
        "89\n",
        "89\n"
       ]
      }
     ],
     "prompt_number": 12
    },
    {
     "cell_type": "heading",
     "level": 4,
     "metadata": {},
     "source": [
      "Regularised logistic regression"
     ]
    },
    {
     "cell_type": "code",
     "collapsed": false,
     "input": [
      "# need Jreg(thetas, data, y, lambda)\n",
      "\n",
      "# need different gradients"
     ],
     "language": "python",
     "metadata": {},
     "outputs": [],
     "prompt_number": 13
    },
    {
     "cell_type": "code",
     "collapsed": false,
     "input": [],
     "language": "python",
     "metadata": {},
     "outputs": [],
     "prompt_number": 13
    }
   ],
   "metadata": {}
  }
 ]
}