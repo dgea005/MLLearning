{
 "cells": [
  {
   "cell_type": "code",
   "execution_count": 1,
   "metadata": {
    "collapsed": false
   },
   "outputs": [],
   "source": [
    "%matplotlib inline\n",
    "from pylab import rcParams\n",
    "rcParams['figure.figsize'] = 8, 4"
   ]
  },
  {
   "cell_type": "code",
   "execution_count": 2,
   "metadata": {
    "collapsed": false
   },
   "outputs": [
    {
     "data": {
      "text/plain": [
       "<matplotlib.collections.PathCollection at 0x6d80978>"
      ]
     },
     "execution_count": 2,
     "metadata": {},
     "output_type": "execute_result"
    },
    {
     "data": {
      "image/png": "[encoded data removed]",
      "text/plain": [
       "<matplotlib.figure.Figure at 0x6d139e8>"
      ]
     },
     "metadata": {},
     "output_type": "display_data"
    }
   ],
   "source": [
    "import numpy as np\n",
    "import matplotlib.pyplot as plt\n",
    "ex2d1 = np.loadtxt(\"ex2data1.txt\", delimiter=\",\")\n",
    "plt.scatter(ex2d1[ex2d1[:,2]==1][:,0], ex2d1[ex2d1[:,2]==1][:,1], marker = \"^\")\n",
    "plt.scatter(ex2d1[ex2d1[:,2]==0][:,0], ex2d1[ex2d1[:,2]==0][:,1], marker = \"x\", c = \"r\")"
   ]
  },
  {
   "cell_type": "code",
   "execution_count": 3,
   "metadata": {
    "collapsed": false
   },
   "outputs": [
    {
     "data": {
      "text/plain": [
       "0.69314718055994529"
      ]
     },
     "execution_count": 3,
     "metadata": {},
     "output_type": "execute_result"
    }
   ],
   "source": [
    "def sigmoid(z):\n",
    "    return (1 / (1 + np.exp(-z)))\n",
    "\n",
    "def J(thetas, data, y):\n",
    "    return (-1./len(data[:,0])) * (np.dot((np.log(sigmoid(np.dot(xs,thetas))).T),y) + np.dot((np.log(1 - sigmoid(np.dot(xs,thetas))).T),(1-y)))\n",
    "\n",
    "#prepare the data\n",
    "x0 = np.ones(len(ex2d1[:,0]))\n",
    "xs = ex2d1[:,0:2]\n",
    "intercept = np.ones(xs.shape[0]).reshape(xs.shape[0], 1)\n",
    "xs = np.concatenate((intercept, xs), axis = 1)\n",
    "thetas = np.array([0, 0, 0])\n",
    "y = ex2d1[:,2]\n",
    "\n",
    "\n",
    "J(thetas, xs, y)"
   ]
  },
  {
   "cell_type": "code",
   "execution_count": 5,
   "metadata": {
    "collapsed": false
   },
   "outputs": [
    {
     "name": "stdout",
     "output_type": "stream",
     "text": [
      "Optimization terminated successfully.\n",
      "         Current function value: 0.203498\n",
      "         Iterations: 24\n",
      "         Function evaluations: 135\n",
      "         Gradient evaluations: 27\n"
     ]
    },
    {
     "data": {
      "text/plain": [
       "array([-25.16121449,   0.20623075,   0.20147067])"
      ]
     },
     "execution_count": 5,
     "metadata": {},
     "output_type": "execute_result"
    }
   ],
   "source": [
    "import scipy.optimize\n",
    "import scipy as sp\n",
    "\n",
    "optimise = scipy.optimize.fmin_bfgs(J, \n",
    "                                  x0 = np.array([0.01, 0.001, 0.01]), \n",
    "                                  args = (xs, y),\n",
    "                                  maxiter = 1000)\n",
    "optimise"
   ]
  },
  {
   "cell_type": "code",
   "execution_count": 6,
   "metadata": {
    "collapsed": false
   },
   "outputs": [
    {
     "data": {
      "text/plain": [
       "<matplotlib.text.Text at 0x7253940>"
      ]
     },
     "execution_count": 6,
     "metadata": {},
     "output_type": "execute_result"
    },
    {
     "data": {
      "image/png": "[encoded data removed]",
      "text/plain": [
       "<matplotlib.figure.Figure at 0x725ae48>"
      ]
     },
     "metadata": {},
     "output_type": "display_data"
    }
   ],
   "source": [
    "# want to get all combinations that result in 0.5\n",
    "# ie., sigmoid(th0 + th1 * x1 + th2 * x2) = 0.5\n",
    "def probs(x, t):\n",
    "    return sigmoid(t[0] + t[1]*x[0] + t[2]*x[1])\n",
    "\n",
    "prob = np.zeros(shape = (101,101))\n",
    "for i in np.arange(0, 101, 1):\n",
    "    for j in np.arange(0, 101, 1):\n",
    "        prob[i, j] = probs(x = (i, j), t = optimise)\n",
    "\n",
    "cmap = plt.cm.RdBu\n",
    "plt.contourf(prob, alpha=0.5, levels = [0,0.25, 0.45, 0.5, 0.55, 0.75, 1], cmap = cmap)\n",
    "plt.scatter(ex2d1[ex2d1[:,2]==1][:,0], ex2d1[ex2d1[:,2]==1][:,1], marker = \"^\")\n",
    "plt.scatter(ex2d1[ex2d1[:,2]==0][:,0], ex2d1[ex2d1[:,2]==0][:,1], marker = \"x\", c = \"r\")\n",
    "plt.title(\"Admission by exam marks\")\n",
    "plt.ylabel(\"exam mark 2\")\n",
    "plt.xlabel(\"exam mark 1\")"
   ]
  },
  {
   "cell_type": "code",
   "execution_count": 7,
   "metadata": {
    "collapsed": false
   },
   "outputs": [
    {
     "data": {
      "text/plain": [
       "array([ -0.1       , -12.00921659, -11.26284221])"
      ]
     },
     "execution_count": 7,
     "metadata": {},
     "output_type": "execute_result"
    }
   ],
   "source": [
    "def gradient(thetas, data, y):\n",
    "    hypo = sigmoid(np.dot(thetas, data.T))\n",
    "    return (1./len(data[:,0]))*np.dot((hypo-y), data)\n",
    "\n",
    "#test\n",
    "gradient(thetas, xs, y)"
   ]
  },
  {
   "cell_type": "code",
   "execution_count": 8,
   "metadata": {
    "collapsed": false
   },
   "outputs": [
    {
     "name": "stdout",
     "output_type": "stream",
     "text": [
      "Optimization terminated successfully.\n",
      "         Current function value: 0.203498\n",
      "         Iterations: 24\n",
      "         Function evaluations: 27\n",
      "         Gradient evaluations: 27\n"
     ]
    },
    {
     "data": {
      "text/plain": [
       "array([-25.16131518,   0.20623155,   0.20147149])"
      ]
     },
     "execution_count": 8,
     "metadata": {},
     "output_type": "execute_result"
    }
   ],
   "source": [
    "optGr = scipy.optimize.fmin_bfgs(J, fprime=gradient,  \n",
    "                                  x0 = np.array([0.01, 0.001, 0.01]), \n",
    "                                  args = (xs, y),\n",
    "                                  maxiter = 1000)\n",
    "optGr"
   ]
  },
  {
   "cell_type": "code",
   "execution_count": 9,
   "metadata": {
    "collapsed": false
   },
   "outputs": [
    {
     "name": "stdout",
     "output_type": "stream",
     "text": [
      "Optimization terminated successfully.\n",
      "         Current function value: 0.203498\n",
      "         Iterations: 25\n",
      "         Function evaluations: 64\n",
      "         Gradient evaluations: 216\n",
      "         Hessian evaluations: 0\n"
     ]
    },
    {
     "data": {
      "text/plain": [
       "array([-25.136374  ,   0.2060321 ,   0.20126961])"
      ]
     },
     "execution_count": 9,
     "metadata": {},
     "output_type": "execute_result"
    }
   ],
   "source": [
    "optCng = scipy.optimize.fmin_ncg(J, maxiter = 1000, fprime = gradient, \n",
    "                                 x0 = np.array([0.01, 0.001, 0.01]),\n",
    "                                 args = (xs, y))\n",
    "\n",
    "optCng"
   ]
  },
  {
   "cell_type": "code",
   "execution_count": 10,
   "metadata": {
    "collapsed": false
   },
   "outputs": [
    {
     "data": {
      "text/plain": [
       "1.2403493395440989e-05"
      ]
     },
     "execution_count": 10,
     "metadata": {},
     "output_type": "execute_result"
    }
   ],
   "source": [
    "#check the gradient\n",
    "scipy.optimize.check_grad(J, gradient, thetas, xs, y)"
   ]
  },
  {
   "cell_type": "code",
   "execution_count": 11,
   "metadata": {
    "collapsed": false
   },
   "outputs": [
    {
     "data": {
      "text/plain": [
       "0.77629011355772293"
      ]
     },
     "execution_count": 11,
     "metadata": {},
     "output_type": "execute_result"
    }
   ],
   "source": [
    "# prediction for exam 1 = 45, exam 2 = 85\n",
    "sigmoid(optimise[0] + optimise[1] * 45 + optimise[2]*85)"
   ]
  },
  {
   "cell_type": "code",
   "execution_count": 12,
   "metadata": {
    "collapsed": false
   },
   "outputs": [
    {
     "name": "stdout",
     "output_type": "stream",
     "text": [
      "89\n",
      "89\n",
      "89\n"
     ]
    }
   ],
   "source": [
    "# check how will the predictors have worked\n",
    "# will essentially want the training sample values\n",
    "\n",
    "#need a function to calculate all of the values\n",
    "#xs[:,1]\n",
    "def t_error(x, t):\n",
    "    #first need the probability of admission\n",
    "    prob = sigmoid(t[0] +  x[:,1] * t[1] + x[:,2] * t[2])\n",
    "    preds = np.zeros(np.shape(prob)[0])\n",
    "    for i in np.arange(0, np.shape(prob)[0]):\n",
    "        if prob[i] >= 0.5:\n",
    "            preds[i] = 1\n",
    "    return preds\n",
    "    \n",
    "\n",
    "\n",
    "#bfgs\n",
    "preds = t_error(xs, optimise)\n",
    "print(np.sum(y == preds))\n",
    "\n",
    "#bfgs w/ gr\n",
    "pred2 = t_error(xs, optGr)\n",
    "print(np.sum(y == pred2))\n",
    "\n",
    "#cng\n",
    "pred3 = t_error(xs, optCng)\n",
    "print(np.sum(y == pred3))"
   ]
  },
  {
   "cell_type": "markdown",
   "metadata": {},
   "source": [
    "#### Regularised logistic regression"
   ]
  },
  {
   "cell_type": "code",
   "execution_count": null,
   "metadata": {
    "collapsed": false
   },
   "outputs": [],
   "source": [
    "# To do...."
   ]
  }
 ],
 "metadata": {
  "kernelspec": {
   "display_name": "Python 3",
   "language": "python",
   "name": "python3"
  },
  "language_info": {
   "codemirror_mode": {
    "name": "ipython",
    "version": 3
   },
   "file_extension": ".py",
   "mimetype": "text/x-python",
   "name": "python",
   "nbconvert_exporter": "python",
   "pygments_lexer": "ipython3",
   "version": "3.4.3"
  }
 },
 "nbformat": 4,
 "nbformat_minor": 0
}
